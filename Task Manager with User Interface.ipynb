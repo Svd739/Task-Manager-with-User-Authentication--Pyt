{
 "cells": [
  {
   "cell_type": "code",
   "execution_count": 2,
   "id": "10964ddc-f545-4903-b173-58d94745ea4e",
   "metadata": {},
   "outputs": [],
   "source": [
    "import hashlib\n",
    "import os"
   ]
  },
  {
   "cell_type": "code",
   "execution_count": 4,
   "id": "47d3bbe9-106f-4831-a15b-b1fac9b40085",
   "metadata": {},
   "outputs": [],
   "source": [
    "def register_user():\n",
    "    username = input(\"Enter a username: \")\n",
    "    password = input(\"Enter a password: \")\n",
    "    \n",
    "    # Ensure the username is unique\n",
    "    if check_username(username):\n",
    "        print(\"Username already taken. Please choose a different one.\")\n",
    "        return\n",
    "    \n",
    "    # Hash the password\n",
    "    hashed_password = hash_password(password)\n",
    "    \n",
    "    # Store the username and hashed password in a file\n",
    "    store_user(username, hashed_password)\n",
    "    print(\"Registration successful!\")\n",
    "\n",
    "    \n"
   ]
  },
  {
   "cell_type": "code",
   "execution_count": 6,
   "id": "638d1924-98c2-4093-a372-0649dfa21ff6",
   "metadata": {},
   "outputs": [
    {
     "name": "stdin",
     "output_type": "stream",
     "text": [
      "Enter a username:  Souvik\n",
      "Enter a password:  rough\n"
     ]
    },
    {
     "name": "stdout",
     "output_type": "stream",
     "text": [
      "Registration successful!\n"
     ]
    }
   ],
   "source": [
    "# Function to check if the username is unique\n",
    "def check_username(username):\n",
    "    if not os.path.isfile('users.txt'):\n",
    "        return False\n",
    "    \n",
    "    with open('users.txt', 'r') as file:\n",
    "        for line in file:\n",
    "            stored_username, _ = line.strip().split(\":\")\n",
    "            if stored_username == username:\n",
    "                return True\n",
    "    return False\n",
    "\n",
    "# Function to hash the password\n",
    "def hash_password(password):\n",
    "    return hashlib.sha256(password.encode()).hexdigest()\n",
    "\n",
    "# Function to store the user data in a file\n",
    "def store_user(username, hashed_password):\n",
    "    with open('users.txt', 'a') as file:\n",
    "        file.write(f\"{username}:{hashed_password}\\n\")\n",
    "\n",
    "# Calling the register_user function to initiate registration\n",
    "register_user()\n"
   ]
  },
  {
   "cell_type": "code",
   "execution_count": 8,
   "id": "abd373b9-333b-4063-893b-13825fd4a869",
   "metadata": {},
   "outputs": [],
   "source": [
    "# Function to prompt user for login\n",
    "def login_user():\n",
    "    username = input(\"Enter your username: \")\n",
    "    password = input(\"Enter your password: \")\n",
    "    \n",
    "    # Validate the credentials\n",
    "    if validate_credentials(username, password):\n",
    "        print(\"Login successful! Access granted to the task manager.\")\n",
    "        # Call the task manager function here\n",
    "        task_manager()\n",
    "    else:\n",
    "        print(\"Invalid username or password. Please try again.\")"
   ]
  },
  {
   "cell_type": "code",
   "execution_count": 10,
   "id": "e911864f-f2ed-48a3-bb2d-b648f9ab905f",
   "metadata": {},
   "outputs": [],
   "source": [
    "# Function to validate the credentials\n",
    "def validate_credentials(username, password):\n",
    "    if not os.path.isfile('users.txt'):\n",
    "        return False\n",
    "    \n",
    "    with open('users.txt', 'r') as file:\n",
    "        for line in file:\n",
    "            stored_username, stored_hashed_password = line.strip().split(\":\")\n",
    "            if stored_username == username:\n",
    "                return hash_password(password) == stored_hashed_password\n",
    "    return False\n"
   ]
  },
  {
   "cell_type": "code",
   "execution_count": 14,
   "id": "b0ba6ea9-aab6-44cf-be90-2fb58d91cf34",
   "metadata": {},
   "outputs": [
    {
     "name": "stdin",
     "output_type": "stream",
     "text": [
      "Enter your username:  Souvik\n",
      "Enter your password:  rough\n"
     ]
    },
    {
     "name": "stdout",
     "output_type": "stream",
     "text": [
      "Login successful! Access granted to the task manager.\n",
      "Welcome to the task manager!\n"
     ]
    }
   ],
   "source": [
    "# Task manager function (placeholder)\n",
    "def task_manager():\n",
    "    print(\"Welcome to the task manager!\")\n",
    "\n",
    "# Hashing function (already provided earlier)\n",
    "def hash_password(password):\n",
    "    return hashlib.sha256(password.encode()).hexdigest()\n",
    "\n",
    "# Calling the login_user function to initiate login\n",
    "login_user()\n"
   ]
  },
  {
   "cell_type": "code",
   "execution_count": 16,
   "id": "46aece2e-a2c7-443c-92f4-129eaf62ff46",
   "metadata": {},
   "outputs": [],
   "source": [
    "import os\n",
    "\n"
   ]
  },
  {
   "cell_type": "code",
   "execution_count": 18,
   "id": "ea07cb0c-b7c8-4115-9efb-6d5e194c3186",
   "metadata": {},
   "outputs": [],
   "source": [
    "# Function to add a new task\n",
    "def add_task():\n",
    "    task_description = input(\"Enter task description: \")\n",
    "    \n",
    "    # Assign a unique task ID\n",
    "    task_id = generate_task_id()\n",
    "    \n",
    "    # Set the task status to \"Pending\"\n",
    "    task_status = \"Pending\"\n",
    "    \n",
    "    # Store the task in a file\n",
    "    store_task(task_id, task_description, task_status)\n",
    "    \n",
    "    print(f\"Task added successfully! Task ID: {task_id}\")\n",
    "\n"
   ]
  },
  {
   "cell_type": "code",
   "execution_count": 20,
   "id": "345da6bb-50e5-4dbb-bee9-c8a8a2e5a39c",
   "metadata": {},
   "outputs": [
    {
     "name": "stdin",
     "output_type": "stream",
     "text": [
      "Enter task description:  Souvik\n"
     ]
    },
    {
     "name": "stdout",
     "output_type": "stream",
     "text": [
      "Task added successfully! Task ID: 2\n"
     ]
    }
   ],
   "source": [
    "# Function to generate a unique task ID\n",
    "def generate_task_id():\n",
    "    if not os.path.isfile('tasks.txt'):\n",
    "        return 1\n",
    "    \n",
    "    with open('tasks.txt', 'r') as file:\n",
    "        lines = file.readlines()\n",
    "        if not lines:\n",
    "            return 1\n",
    "        last_line = lines[-1]\n",
    "        last_task_id = int(last_line.split(\":\")[0])\n",
    "        return last_task_id + 1\n",
    "\n",
    "# Function to store the task in a file\n",
    "def store_task(task_id, task_description, task_status):\n",
    "    with open('tasks.txt', 'a') as file:\n",
    "        file.write(f\"{task_id}:{task_description}:{task_status}\\n\")\n",
    "\n",
    "# Calling the add_task function to initiate task addition\n",
    "add_task()\n"
   ]
  },
  {
   "cell_type": "code",
   "execution_count": 22,
   "id": "f06c5bee-5c3f-44ba-9e82-474135739f6c",
   "metadata": {},
   "outputs": [
    {
     "name": "stdout",
     "output_type": "stream",
     "text": [
      "Tasks for user1:\n",
      "Task ID: 1, Description: Complete Python project, Status: Pending\n",
      "Task ID: 2, Description: Review code, Status: Completed\n"
     ]
    }
   ],
   "source": [
    "# Sample list of tasks (usually this would come from a database or file)\n",
    "tasks = [\n",
    "    {'task_id': 1, 'description': 'Complete Python project', 'status': 'Pending', 'user': 'user1'},\n",
    "    {'task_id': 2, 'description': 'Review code', 'status': 'Completed', 'user': 'user1'},\n",
    "    {'task_id': 3, 'description': 'Write documentation', 'status': 'Pending', 'user': 'user2'}\n",
    "]\n",
    "\n",
    "# Function to retrieve and display tasks for the logged-in user\n",
    "def view_tasks(logged_in_user):\n",
    "    print(f\"Tasks for {logged_in_user}:\")\n",
    "    user_tasks = [task for task in tasks if task['user'] == logged_in_user]\n",
    "    if user_tasks:\n",
    "        for task in user_tasks:\n",
    "            print(f\"Task ID: {task['task_id']}, Description: {task['description']}, Status: {task['status']}\")\n",
    "    else:\n",
    "        print(\"No tasks found for the logged-in user.\")\n",
    "\n",
    "# Example usage\n",
    "logged_in_user = 'user1'\n",
    "view_tasks(logged_in_user)\n"
   ]
  },
  {
   "cell_type": "code",
   "execution_count": 24,
   "id": "8e0e361b-01ad-44c2-8a70-9660c04c313f",
   "metadata": {},
   "outputs": [
    {
     "name": "stdout",
     "output_type": "stream",
     "text": [
      "Task ID 1 has been marked as Completed.\n"
     ]
    }
   ],
   "source": [
    "# Function to mark a task as completed by its ID\n",
    "def mark_task_completed(task_id, logged_in_user):\n",
    "    for task in tasks:\n",
    "        if task['task_id'] == task_id and task['user'] == logged_in_user:\n",
    "            task['status'] = 'Completed'\n",
    "            print(f\"Task ID {task_id} has been marked as Completed.\")\n",
    "            return\n",
    "    print(f\"No task found with ID {task_id} for user {logged_in_user}.\")\n",
    "\n",
    "# Example usage\n",
    "task_id_to_complete = 1\n",
    "logged_in_user = 'user1'\n",
    "mark_task_completed(task_id_to_complete, logged_in_user)\n"
   ]
  },
  {
   "cell_type": "code",
   "execution_count": 26,
   "id": "fab0f67c-f799-41bd-946c-e5775f90f566",
   "metadata": {},
   "outputs": [
    {
     "name": "stdout",
     "output_type": "stream",
     "text": [
      "Task ID 1 has been deleted for user user1.\n"
     ]
    }
   ],
   "source": [
    "# Function to delete a task by its ID\n",
    "def delete_task(task_id, logged_in_user):\n",
    "    global tasks\n",
    "    tasks = [task for task in tasks if not (task['task_id'] == task_id and task['user'] == logged_in_user)]\n",
    "    print(f\"Task ID {task_id} has been deleted for user {logged_in_user}.\")\n",
    "\n",
    "# Example usage\n",
    "task_id_to_delete = 1\n",
    "logged_in_user = 'user1'\n",
    "delete_task(task_id_to_delete, logged_in_user)\n"
   ]
  },
  {
   "cell_type": "code",
   "execution_count": 28,
   "id": "a2c30b10-0193-40d7-af94-51b28984ee07",
   "metadata": {},
   "outputs": [
    {
     "name": "stdout",
     "output_type": "stream",
     "text": [
      "\n",
      "Menu:\n",
      "1. Add a Task\n",
      "2. View Tasks\n",
      "3. Mark a Task as Completed\n",
      "4. Delete a Task\n",
      "5. Logout\n"
     ]
    },
    {
     "name": "stdin",
     "output_type": "stream",
     "text": [
      "Enter your choice (1-5):  1\n",
      "Enter task description:  Work\n"
     ]
    },
    {
     "name": "stdout",
     "output_type": "stream",
     "text": [
      "Task 'Work' has been added with Task ID 4.\n",
      "\n",
      "Menu:\n",
      "1. Add a Task\n",
      "2. View Tasks\n",
      "3. Mark a Task as Completed\n",
      "4. Delete a Task\n",
      "5. Logout\n"
     ]
    },
    {
     "name": "stdin",
     "output_type": "stream",
     "text": [
      "Enter your choice (1-5):  5\n"
     ]
    },
    {
     "name": "stdout",
     "output_type": "stream",
     "text": [
      "Logging out...\n"
     ]
    }
   ],
   "source": [
    "# Sample list of tasks\n",
    "tasks = [\n",
    "    {'task_id': 1, 'description': 'Complete Python project', 'status': 'Pending', 'user': 'user1'},\n",
    "    {'task_id': 2, 'description': 'Review code', 'status': 'Completed', 'user': 'user1'},\n",
    "    {'task_id': 3, 'description': 'Write documentation', 'status': 'Pending', 'user': 'user2'}\n",
    "]\n",
    "\n",
    "# Function to add a task\n",
    "def add_task(description, logged_in_user):\n",
    "    new_task_id = max(task['task_id'] for task in tasks) + 1\n",
    "    tasks.append({'task_id': new_task_id, 'description': description, 'status': 'Pending', 'user': logged_in_user})\n",
    "    print(f\"Task '{description}' has been added with Task ID {new_task_id}.\")\n",
    "\n",
    "# Function to view tasks\n",
    "def view_tasks(logged_in_user):\n",
    "    print(f\"Tasks for {logged_in_user}:\")\n",
    "    user_tasks = [task for task in tasks if task['user'] == logged_in_user]\n",
    "    if user_tasks:\n",
    "        for task in user_tasks:\n",
    "            print(f\"Task ID: {task['task_id']}, Description: {task['description']}, Status: {task['status']}\")\n",
    "    else:\n",
    "        print(\"No tasks found for the logged-in user.\")\n",
    "\n",
    "# Function to mark a task as completed\n",
    "def mark_task_completed(task_id, logged_in_user):\n",
    "    for task in tasks:\n",
    "        if task['task_id'] == task_id and task['user'] == logged_in_user:\n",
    "            task['status'] = 'Completed'\n",
    "            print(f\"Task ID {task_id} has been marked as Completed.\")\n",
    "            return\n",
    "    print(f\"No task found with ID {task_id} for user {logged_in_user}.\")\n",
    "\n",
    "# Function to delete a task\n",
    "def delete_task(task_id, logged_in_user):\n",
    "    global tasks\n",
    "    tasks = [task for task in tasks if not (task['task_id'] == task_id and task['user'] == logged_in_user)]\n",
    "    print(f\"Task ID {task_id} has been deleted for user {logged_in_user}.\")\n",
    "\n",
    "# Interactive menu\n",
    "def interactive_menu(logged_in_user):\n",
    "    while True:\n",
    "        print(\"\\nMenu:\")\n",
    "        print(\"1. Add a Task\")\n",
    "        print(\"2. View Tasks\")\n",
    "        print(\"3. Mark a Task as Completed\")\n",
    "        print(\"4. Delete a Task\")\n",
    "        print(\"5. Logout\")\n",
    "        choice = input(\"Enter your choice (1-5): \")\n",
    "\n",
    "        if choice == '1':\n",
    "            description = input(\"Enter task description: \")\n",
    "            add_task(description, logged_in_user)\n",
    "        elif choice == '2':\n",
    "            view_tasks(logged_in_user)\n",
    "        elif choice == '3':\n",
    "            task_id = int(input(\"Enter Task ID to mark as completed: \"))\n",
    "            mark_task_completed(task_id, logged_in_user)\n",
    "        elif choice == '4':\n",
    "            task_id = int(input(\"Enter Task ID to delete: \"))\n",
    "            delete_task(task_id, logged_in_user)\n",
    "        elif choice == '5':\n",
    "            print(\"Logging out...\")\n",
    "            break\n",
    "        else:\n",
    "            print(\"Invalid choice. Please enter a number from 1 to 5.\")\n",
    "\n",
    "# Example usage\n",
    "logged_in_user = 'user1'\n",
    "interactive_menu(logged_in_user)\n"
   ]
  },
  {
   "cell_type": "code",
   "execution_count": null,
   "id": "277c434d-7e76-455d-b2b2-6232940e58b0",
   "metadata": {},
   "outputs": [],
   "source": []
  },
  {
   "cell_type": "code",
   "execution_count": null,
   "id": "daa4525b-e239-4111-adab-70e5abb6d5cb",
   "metadata": {},
   "outputs": [],
   "source": []
  },
  {
   "cell_type": "code",
   "execution_count": null,
   "id": "d81e00f3-2524-4c11-9706-aad6be9a6053",
   "metadata": {},
   "outputs": [],
   "source": []
  },
  {
   "cell_type": "code",
   "execution_count": null,
   "id": "1cd12b17-1637-4bc5-be86-232095ba8516",
   "metadata": {},
   "outputs": [],
   "source": []
  },
  {
   "cell_type": "code",
   "execution_count": null,
   "id": "29781531-e04d-4f00-ada7-7b6dbb51102c",
   "metadata": {},
   "outputs": [],
   "source": []
  }
 ],
 "metadata": {
  "kernelspec": {
   "display_name": "Python [conda env:base] *",
   "language": "python",
   "name": "conda-base-py"
  },
  "language_info": {
   "codemirror_mode": {
    "name": "ipython",
    "version": 3
   },
   "file_extension": ".py",
   "mimetype": "text/x-python",
   "name": "python",
   "nbconvert_exporter": "python",
   "pygments_lexer": "ipython3",
   "version": "3.12.7"
  }
 },
 "nbformat": 4,
 "nbformat_minor": 5
}
